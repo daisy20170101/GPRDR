{
 "cells": [
  {
   "cell_type": "markdown",
   "metadata": {},
   "source": [
    "# Analysis of GPR\n",
    "\n",
    "#### Author: D. Li\n",
    "#### 23.3.2020\n",
    "\n",
    "This is the analytical solution of GPR model in a 0D (point) problem. \n",
    "Analytical solutions are based on Maurizio's crack paper and GPRDI documentation.\n",
    "\n",
    "Two key variables are:\n",
    "\n",
    "1) shear relaxation time $\\tau$\n",
    "\n",
    "$\\tau = tau_0*\\exp(\\alpha - \\beta * Y)$\n",
    "\n",
    "2) damage coefficient $\\xi$\n",
    "\n",
    "$\\xi = \\frac{\\mu_2 \\mu_2}{[\\mu_1 -(\\mu_1-\\mu_2)\\frac{t-ti}{t-te}]^2} \\frac{1}{ti-te} (ti < t< te)$\n",
    "\n",
    "Damage function $\\xi$ is introduced in the period of [ti, te] in the given format. This damage coefficient will result in a weakening of the materials and thus release shear stress. We assume an initial strain tensor and constant strain rate tensor in the analysis.\n",
    "\n",
    "We further define an equivalent coefficient as the ratio between YY and P. The shape of this equivalent coefficient approximates linear slip weakening (LSW) as in dynamic simulation. \n"
   ]
  },
  {
   "cell_type": "code",
   "execution_count": 11,
   "metadata": {},
   "outputs": [
    {
     "ename": "SyntaxError",
     "evalue": "invalid syntax (functions.py, line 34)",
     "output_type": "error",
     "traceback": [
      "Traceback \u001b[0;36m(most recent call last)\u001b[0m:\n",
      "  File \u001b[1;32m\"/Users/duoli/anaconda3/envs/obspy/lib/python3.6/site-packages/IPython/core/interactiveshell.py\"\u001b[0m, line \u001b[1;32m3319\u001b[0m, in \u001b[1;35mrun_code\u001b[0m\n    exec(code_obj, self.user_global_ns, self.user_ns)\n",
      "\u001b[0;36m  File \u001b[0;32m\"<ipython-input-11-33e5ac348e8a>\"\u001b[0;36m, line \u001b[0;32m5\u001b[0;36m, in \u001b[0;35m<module>\u001b[0;36m\u001b[0m\n\u001b[0;31m    from functions import *\u001b[0m\n",
      "\u001b[0;36m  File \u001b[0;32m\"/Users/duoli/Documents/ExaHype/Notebook/GPRDR_notebook/functions.py\"\u001b[0;36m, line \u001b[0;32m34\u001b[0m\n\u001b[0;31m    else:\u001b[0m\n\u001b[0m       ^\u001b[0m\n\u001b[0;31mSyntaxError\u001b[0m\u001b[0;31m:\u001b[0m invalid syntax\n"
     ]
    }
   ],
   "source": [
    "import numpy as np\n",
    "import os\n",
    "import sys\n",
    "import matplotlib.pyplot as plt\n",
    "from functions import *\n",
    "\n",
    "%matplotlib inline"
   ]
  },
  {
   "cell_type": "code",
   "execution_count": 6,
   "metadata": {},
   "outputs": [
    {
     "data": {
      "text/plain": [
       "(1001,)"
      ]
     },
     "execution_count": 6,
     "metadata": {},
     "output_type": "execute_result"
    }
   ],
   "source": [
    "# initialize parameters and variables in GPR model 0D\n",
    "# mu1 lambda1 k mu2 lambda2 K1, K2: shear modulus, Lame's and bulk modulus\n",
    "# ti te: start and ending time\n",
    "# alpha1, beta1, alpha2, beta2: in the definition of shear relaxation time tau1 and tau2\n",
    "# strain0 and strainR: initial strain tensor and constant strain rate tensor.\n",
    "# D: fault zone thickness: in calculating V_{plastic} = 2*strainRII * D\n",
    "\n",
    "mu1 = 30e9;\n",
    "lambda1 = 30e9;\n",
    "\n",
    "k = 0.2;\n",
    "\n",
    "lambda2 = lambda1 + 2/3*(1-k)*mu1;  # eq 56\n",
    "# mu2 = lambda1-lambda2+2*k*mu1; % eq 53\n",
    "mu2 = k*mu1; # eq 54\n",
    "\n",
    "K1 = lambda1 + 2/3*mu1;\n",
    "K2 = lambda2 + 2/3*mu2;\n",
    "\n",
    "ti = 0.2;\n",
    "te = 0.4;\n",
    "\n",
    "alpha1 = 36;\n",
    "beta1 = 0;\n",
    "alpha2 = 32;\n",
    "beta2 = 1e-6;\n",
    "\n",
    "c0 = 0.0;\n",
    "\n",
    "t = np.linspace(0,1,1001); # time integral\n",
    "YY = np.zeros(np.size(t)); # second invariant\n",
    "c = np.zeros(np.size(t)); # Xi\n",
    "tauM = np.zeros(np.size(t)); # tauM\n",
    "P = np.zeros(np.size(t)); # hydrostatic stress\n",
    "vp = np.zeros(np.size(t)); # v_{plastic}\n",
    "slp = np.zeros(np.size(t)); # slip (meter)\n",
    "\n",
    "# constant strain rate tensor\n",
    "strainR_11 = 1e-3;\n",
    "strainR_22 = 0.0e-4;\n",
    "strainR_33 = 0.0e-4;\n",
    "strainR_12 = 0.1e-3;\n",
    "strainR_13 = 0.1e-3;\n",
    "strainR_23 = 0;\n",
    "\n",
    "strainR = np.matrix([[strainR_11,strainR_12,strainR_13],\n",
    "           [strainR_12, strainR_22, strainR_23],\n",
    "          [ strainR_13, strainR_23, strainR_33 ]]); \n",
    "\n",
    "# initial strain tensor\n",
    "\n",
    "strain11 = 1e-11;\n",
    "strain12 = -0.4e-11;\n",
    "strain13 = -0.4e-11;\n",
    "strain23 = 0;\n",
    "\n",
    "strain0 = np.matrix([[strain11,strain12,strain13],\n",
    "              [strain12,   0.0,   strain23],\n",
    "              [strain13, strain23 ,0.0]]);\n",
    "\n",
    "D = 1; # in meter\n",
    "\n",
    "P.shape\n"
   ]
  },
  {
   "cell_type": "code",
   "execution_count": 7,
   "metadata": {},
   "outputs": [
    {
     "ename": "NameError",
     "evalue": "name 'GetXi' is not defined",
     "output_type": "error",
     "traceback": [
      "\u001b[0;31m---------------------------------------------------------------------------\u001b[0m",
      "\u001b[0;31mNameError\u001b[0m                                 Traceback (most recent call last)",
      "\u001b[0;32m<ipython-input-7-77707cd27c2a>\u001b[0m in \u001b[0;36m<module>\u001b[0;34m\u001b[0m\n\u001b[1;32m      3\u001b[0m \u001b[0;32mfor\u001b[0m \u001b[0mi\u001b[0m \u001b[0;32min\u001b[0m \u001b[0mrange\u001b[0m\u001b[0;34m(\u001b[0m\u001b[0;36m1\u001b[0m\u001b[0;34m,\u001b[0m\u001b[0mt\u001b[0m\u001b[0;34m.\u001b[0m\u001b[0msize\u001b[0m\u001b[0;34m)\u001b[0m\u001b[0;34m:\u001b[0m\u001b[0;34m\u001b[0m\u001b[0;34m\u001b[0m\u001b[0m\n\u001b[1;32m      4\u001b[0m \u001b[0;34m\u001b[0m\u001b[0m\n\u001b[0;32m----> 5\u001b[0;31m     \u001b[0mc\u001b[0m\u001b[0;34m[\u001b[0m\u001b[0mi\u001b[0m\u001b[0;34m]\u001b[0m \u001b[0;34m=\u001b[0m \u001b[0mGetXi\u001b[0m\u001b[0;34m(\u001b[0m\u001b[0mc\u001b[0m\u001b[0;34m[\u001b[0m\u001b[0mi\u001b[0m\u001b[0;34m-\u001b[0m\u001b[0;36m1\u001b[0m\u001b[0;34m]\u001b[0m\u001b[0;34m,\u001b[0m\u001b[0mt\u001b[0m\u001b[0;34m[\u001b[0m\u001b[0mi\u001b[0m\u001b[0;34m]\u001b[0m\u001b[0;34m,\u001b[0m\u001b[0mt\u001b[0m\u001b[0;34m[\u001b[0m\u001b[0mi\u001b[0m\u001b[0;34m]\u001b[0m\u001b[0;34m-\u001b[0m\u001b[0mt\u001b[0m\u001b[0;34m[\u001b[0m\u001b[0mi\u001b[0m\u001b[0;34m-\u001b[0m\u001b[0;36m1\u001b[0m\u001b[0;34m]\u001b[0m\u001b[0;34m,\u001b[0m\u001b[0mmu1\u001b[0m\u001b[0;34m,\u001b[0m\u001b[0mmu2\u001b[0m\u001b[0;34m,\u001b[0m\u001b[0mti\u001b[0m\u001b[0;34m,\u001b[0m\u001b[0mte\u001b[0m\u001b[0;34m)\u001b[0m\u001b[0;34m;\u001b[0m\u001b[0;34m\u001b[0m\u001b[0;34m\u001b[0m\u001b[0m\n\u001b[0m\u001b[1;32m      6\u001b[0m \u001b[0;34m\u001b[0m\u001b[0m\n\u001b[1;32m      7\u001b[0m     \u001b[0mmu_a\u001b[0m \u001b[0;34m=\u001b[0m  \u001b[0;34m(\u001b[0m\u001b[0;36m1\u001b[0m\u001b[0;34m-\u001b[0m\u001b[0mc\u001b[0m\u001b[0;34m[\u001b[0m\u001b[0mi\u001b[0m\u001b[0;34m]\u001b[0m\u001b[0;34m)\u001b[0m\u001b[0;34m*\u001b[0m\u001b[0mmu2\u001b[0m \u001b[0;34m+\u001b[0m \u001b[0mc\u001b[0m\u001b[0;34m[\u001b[0m\u001b[0mi\u001b[0m\u001b[0;34m]\u001b[0m \u001b[0;34m*\u001b[0m \u001b[0mmu1\u001b[0m\u001b[0;34m;\u001b[0m \u001b[0;31m#% eq 57\u001b[0m\u001b[0;34m\u001b[0m\u001b[0;34m\u001b[0m\u001b[0m\n",
      "\u001b[0;31mNameError\u001b[0m: name 'GetXi' is not defined"
     ]
    }
   ],
   "source": [
    "# time evolution \n",
    "\n",
    "for i in range(1,t.size):\n",
    "    \n",
    "    c[i] = GetXi(c[i-1],t[i],t[i]-t[i-1],mu1,mu2,ti,te);\n",
    "    \n",
    "    mu_a =  (1-c[i])*mu2 + c[i] * mu1; #% eq 57\n",
    "    K_a  =  (1-c[i])*K2 + c[i] * K1;  #% \n",
    "\n",
    "    M = mu1*mu2/mu_a;   # % eq. 45\n",
    "    L = K1*K2/K_a -2/3 *mu1* mu2 /mu_a;\n",
    "    \n",
    "    strain = strain0 + (t[i]-t[i-1])*strainR;\n",
    "    \n",
    "    vp[i] = CalcVp(strain, strain0, D, t[i]-t[i-1]);   #% Vp = 2*strain_rate(II)*D\n",
    "    \n",
    "    slp[i] = slp[i-1] + vp[i]*(t[i]-t[i-1]);\n",
    "\n",
    "    sigma,P[i] = StrainToStress(strain,L,M);\n",
    "    \n",
    "    YY[i] = second(sigma);\n",
    "\n",
    "    tau1 = calTauI(10,alpha1,beta1,YY[i]);\n",
    "    tau2 = calTauI(3,alpha2,beta2, YY[i]);\n",
    "\n",
    "    tauM[i] = ((1-c[i])/tau1/mu1 + c[i]/tau2/mu2)**-1.0; #% eq 49\n",
    "\n",
    "    phi = 1/2*(sigma - sigma.trace()/3*np.eye(3))/tauM[i] ; #% eq 48\n",
    "    \n",
    "    strain_end = strain  +  (strainR - phi)*(t[i]-t[i-1]) ; # % eq 52\n",
    "    \n",
    "    strain0 = strain_end;\n",
    "    \n",
    "    "
   ]
  },
  {
   "cell_type": "code",
   "execution_count": 8,
   "metadata": {},
   "outputs": [
    {
     "name": "stderr",
     "output_type": "stream",
     "text": [
      "/Users/duoli/anaconda3/envs/obspy/lib/python3.6/site-packages/ipykernel_launcher.py:33: RuntimeWarning: invalid value encountered in true_divide\n"
     ]
    },
    {
     "data": {
      "image/png": "[encoded data removed]",
      "text/plain": [
       "<Figure size 1152x576 with 6 Axes>"
      ]
     },
     "metadata": {
      "needs_background": "light"
     },
     "output_type": "display_data"
    }
   ],
   "source": [
    "# plot variables with slip distance (m)\n",
    "fig,ax = plt.subplots(ncols=3,nrows=2,figsize=(16,8));\n",
    "\n",
    "#ax[0,0].set_title('Second invariant stress (Pa)');\n",
    "ax[0,0].set_xlabel('slip (m)');\n",
    "ax[0,0].set_ylabel('YY (Pa)');\n",
    "ax[0,0].plot(slp,YY,'-r');\n",
    "\n",
    "ax[0,0].plot(np.array([slp[200],slp[200]]),np.array([np.max(YY),np.min(YY)]),'-.k');\n",
    "ax[0,0].plot(np.array([slp[400],slp[400]]),np.array([np.max(YY),np.min(YY)]),'-.k');\n",
    "\n",
    "\n",
    "#ax[0,1].set_title('damage coeff.)');\n",
    "ax[0,1].set_xlabel('slip (m)');\n",
    "ax[0,1].set_ylabel('Xo (Pa)');\n",
    "ax[0,1].plot(slp,c,'-k');\n",
    "\n",
    "\n",
    "#ax[0,2].set_title('plastic slip rate');\n",
    "ax[0,2].set_xlabel('slip (m)');\n",
    "ax[0,2].set_ylabel('Vp (m/s)');\n",
    "ax[0,2].plot(slp[1:],vp[1:],'-c');\n",
    "\n",
    "\n",
    "#ax[1,0].set_title('hydrostatic stress (Pa)');\n",
    "ax[1,0].set_xlabel('slip (m)');\n",
    "ax[1,0].set_ylabel('P (Pa)');\n",
    "ax[1,0].plot(slp,P,'-b');\n",
    "\n",
    "#ax[1,1].set_title('equivalent friction coeff (YY/P)');\n",
    "ax[1,1].set_xlabel('slip (m)');\n",
    "ax[1,1].set_ylabel(' YY/P');\n",
    "ax[1,1].plot(slp,YY/P,'-m');\n",
    "\n",
    "\n"
   ]
  },
  {
   "cell_type": "code",
   "execution_count": null,
   "metadata": {},
   "outputs": [],
   "source": []
  },
  {
   "cell_type": "code",
   "execution_count": null,
   "metadata": {},
   "outputs": [],
   "source": []
  }
 ],
 "metadata": {
  "kernelspec": {
   "display_name": "Python 3",
   "language": "python",
   "name": "python3"
  },
  "language_info": {
   "codemirror_mode": {
    "name": "ipython",
    "version": 3
   },
   "file_extension": ".py",
   "mimetype": "text/x-python",
   "name": "python",
   "nbconvert_exporter": "python",
   "pygments_lexer": "ipython3",
   "version": "3.6.8"
  }
 },
 "nbformat": 4,
 "nbformat_minor": 2
}
